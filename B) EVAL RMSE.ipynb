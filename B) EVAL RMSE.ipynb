{
 "cells": [
  {
   "cell_type": "code",
   "execution_count": 80,
   "id": "84278777",
   "metadata": {},
   "outputs": [
    {
     "data": {
      "text/plain": [
       "['D:\\\\B_WORKING\\\\WORKING RESULTS\\\\BGRU-CNN\\\\EVAL\\\\D16_BGRUCNN_evaluation_STC.csv',\n",
       " 'D:\\\\B_WORKING\\\\WORKING RESULTS\\\\BGRU-CNN\\\\EVAL\\\\D19_BGRUCNN_evaluation_STC.csv',\n",
       " 'D:\\\\B_WORKING\\\\WORKING RESULTS\\\\BGRU-CNN\\\\EVAL\\\\D20_BGRUCNN_evaluation_STC.csv',\n",
       " 'D:\\\\B_WORKING\\\\WORKING RESULTS\\\\BGRU-CNN\\\\EVAL\\\\D27_BGRUCNN_evaluation_STC.csv',\n",
       " 'D:\\\\B_WORKING\\\\WORKING RESULTS\\\\BGRU-CNN\\\\EVAL\\\\D28_BGRUCNN_evaluation_STC.csv',\n",
       " 'D:\\\\B_WORKING\\\\WORKING RESULTS\\\\BGRU-CNN\\\\EVAL\\\\D2_BGRUCNN_evaluation_STC.csv',\n",
       " 'D:\\\\B_WORKING\\\\WORKING RESULTS\\\\BGRU-CNN\\\\EVAL\\\\D33_BGRUCNN_evaluation_STC.csv',\n",
       " 'D:\\\\B_WORKING\\\\WORKING RESULTS\\\\BGRU-CNN\\\\EVAL\\\\D36_BGRUCNN_evaluation_STC.csv',\n",
       " 'D:\\\\B_WORKING\\\\WORKING RESULTS\\\\BGRU-CNN\\\\EVAL\\\\D38_BGRUCNN_evaluation_STC.csv',\n",
       " 'D:\\\\B_WORKING\\\\WORKING RESULTS\\\\BGRU-CNN\\\\EVAL\\\\D39_BGRUCNN_evaluation_STC.csv',\n",
       " 'D:\\\\B_WORKING\\\\WORKING RESULTS\\\\BGRU-CNN\\\\EVAL\\\\D3_BGRUCNN_evaluation_STC.csv',\n",
       " 'D:\\\\B_WORKING\\\\WORKING RESULTS\\\\BGRU-CNN\\\\EVAL\\\\D7_BGRUCNN_evaluation_STC.csv',\n",
       " 'D:\\\\B_WORKING\\\\WORKING RESULTS\\\\BLSTM-CNN\\\\EVAL\\\\D16_BLSTMCNN_evaluation_STC.csv',\n",
       " 'D:\\\\B_WORKING\\\\WORKING RESULTS\\\\BLSTM-CNN\\\\EVAL\\\\D19_BLSTMCNN_evaluation_STC.csv',\n",
       " 'D:\\\\B_WORKING\\\\WORKING RESULTS\\\\BLSTM-CNN\\\\EVAL\\\\D20_BLSTMCNN_evaluation_STC.csv',\n",
       " 'D:\\\\B_WORKING\\\\WORKING RESULTS\\\\BLSTM-CNN\\\\EVAL\\\\D27_BLSTMCNN_evaluation_STC.csv',\n",
       " 'D:\\\\B_WORKING\\\\WORKING RESULTS\\\\BLSTM-CNN\\\\EVAL\\\\D28_BLSTMCNN_evaluation_STC.csv',\n",
       " 'D:\\\\B_WORKING\\\\WORKING RESULTS\\\\BLSTM-CNN\\\\EVAL\\\\D2_BLSTMCNN_evaluation_STC.csv',\n",
       " 'D:\\\\B_WORKING\\\\WORKING RESULTS\\\\BLSTM-CNN\\\\EVAL\\\\D33_BLSTMCNN_evaluation_STC.csv',\n",
       " 'D:\\\\B_WORKING\\\\WORKING RESULTS\\\\BLSTM-CNN\\\\EVAL\\\\D36_BLSTMCNN_evaluation_STC.csv',\n",
       " 'D:\\\\B_WORKING\\\\WORKING RESULTS\\\\BLSTM-CNN\\\\EVAL\\\\D38_BLSTMCNN_evaluation_STC.csv',\n",
       " 'D:\\\\B_WORKING\\\\WORKING RESULTS\\\\BLSTM-CNN\\\\EVAL\\\\D39_BLSTMCNN_evaluation_STC.csv',\n",
       " 'D:\\\\B_WORKING\\\\WORKING RESULTS\\\\BLSTM-CNN\\\\EVAL\\\\D3_BLSTMCNN_evaluation_STC.csv',\n",
       " 'D:\\\\B_WORKING\\\\WORKING RESULTS\\\\BLSTM-CNN\\\\EVAL\\\\D7_BLSTMCNN_evaluation_STC.csv',\n",
       " 'D:\\\\B_WORKING\\\\WORKING RESULTS\\\\CNN\\\\EVAL\\\\D16_CNN_evaluation_STC.csv',\n",
       " 'D:\\\\B_WORKING\\\\WORKING RESULTS\\\\CNN\\\\EVAL\\\\D19_CNN_evaluation_STC.csv',\n",
       " 'D:\\\\B_WORKING\\\\WORKING RESULTS\\\\CNN\\\\EVAL\\\\D20_CNN_evaluation_STC.csv',\n",
       " 'D:\\\\B_WORKING\\\\WORKING RESULTS\\\\CNN\\\\EVAL\\\\D27_CNN_evaluation_STC.csv',\n",
       " 'D:\\\\B_WORKING\\\\WORKING RESULTS\\\\CNN\\\\EVAL\\\\D28_CNN_evaluation_STC.csv',\n",
       " 'D:\\\\B_WORKING\\\\WORKING RESULTS\\\\CNN\\\\EVAL\\\\D2_CNN_evaluation_STC.csv',\n",
       " 'D:\\\\B_WORKING\\\\WORKING RESULTS\\\\CNN\\\\EVAL\\\\D33_CNN_evaluation_STC.csv',\n",
       " 'D:\\\\B_WORKING\\\\WORKING RESULTS\\\\CNN\\\\EVAL\\\\D36_CNN_evaluation_STC.csv',\n",
       " 'D:\\\\B_WORKING\\\\WORKING RESULTS\\\\CNN\\\\EVAL\\\\D38_CNN_evaluation_STC.csv',\n",
       " 'D:\\\\B_WORKING\\\\WORKING RESULTS\\\\CNN\\\\EVAL\\\\D39_CNN_evaluation_STC.csv',\n",
       " 'D:\\\\B_WORKING\\\\WORKING RESULTS\\\\CNN\\\\EVAL\\\\D3_CNN_evaluation_STC.csv',\n",
       " 'D:\\\\B_WORKING\\\\WORKING RESULTS\\\\CNN\\\\EVAL\\\\D7_CNN_evaluation_STC.csv',\n",
       " 'D:\\\\B_WORKING\\\\WORKING RESULTS\\\\GRU\\\\EVAL\\\\D16_GRU_evaluation_STC.csv',\n",
       " 'D:\\\\B_WORKING\\\\WORKING RESULTS\\\\GRU\\\\EVAL\\\\D19_GRU_evaluation_STC.csv',\n",
       " 'D:\\\\B_WORKING\\\\WORKING RESULTS\\\\GRU\\\\EVAL\\\\D20_GRU_evaluation_STC.csv',\n",
       " 'D:\\\\B_WORKING\\\\WORKING RESULTS\\\\GRU\\\\EVAL\\\\D27_GRU_evaluation_STC.csv',\n",
       " 'D:\\\\B_WORKING\\\\WORKING RESULTS\\\\GRU\\\\EVAL\\\\D28_GRU_evaluation_STC.csv',\n",
       " 'D:\\\\B_WORKING\\\\WORKING RESULTS\\\\GRU\\\\EVAL\\\\D2_GRU_evaluation_STC.csv',\n",
       " 'D:\\\\B_WORKING\\\\WORKING RESULTS\\\\GRU\\\\EVAL\\\\D33_GRU_evaluation_STC.csv',\n",
       " 'D:\\\\B_WORKING\\\\WORKING RESULTS\\\\GRU\\\\EVAL\\\\D36_GRU_evaluation_STC.csv',\n",
       " 'D:\\\\B_WORKING\\\\WORKING RESULTS\\\\GRU\\\\EVAL\\\\D38_GRU_evaluation_STC.csv',\n",
       " 'D:\\\\B_WORKING\\\\WORKING RESULTS\\\\GRU\\\\EVAL\\\\D39_GRU_evaluation_STC.csv',\n",
       " 'D:\\\\B_WORKING\\\\WORKING RESULTS\\\\GRU\\\\EVAL\\\\D3_GRU_evaluation_STC.csv',\n",
       " 'D:\\\\B_WORKING\\\\WORKING RESULTS\\\\GRU\\\\EVAL\\\\D7_GRU_evaluation_STC.csv',\n",
       " 'D:\\\\B_WORKING\\\\WORKING RESULTS\\\\LSTM\\\\EVAL\\\\LSTM_D16_evaluation_STC.csv',\n",
       " 'D:\\\\B_WORKING\\\\WORKING RESULTS\\\\LSTM\\\\EVAL\\\\LSTM_D19_evaluation_STC.csv',\n",
       " 'D:\\\\B_WORKING\\\\WORKING RESULTS\\\\LSTM\\\\EVAL\\\\LSTM_D20_evaluation_STC.csv',\n",
       " 'D:\\\\B_WORKING\\\\WORKING RESULTS\\\\LSTM\\\\EVAL\\\\LSTM_D27_evaluation_STC.csv',\n",
       " 'D:\\\\B_WORKING\\\\WORKING RESULTS\\\\LSTM\\\\EVAL\\\\LSTM_D28_evaluation_STC.csv',\n",
       " 'D:\\\\B_WORKING\\\\WORKING RESULTS\\\\LSTM\\\\EVAL\\\\LSTM_D2_evaluation_STC.csv',\n",
       " 'D:\\\\B_WORKING\\\\WORKING RESULTS\\\\LSTM\\\\EVAL\\\\LSTM_D33_evaluation_STC.csv',\n",
       " 'D:\\\\B_WORKING\\\\WORKING RESULTS\\\\LSTM\\\\EVAL\\\\LSTM_D36_evaluation_STC.csv',\n",
       " 'D:\\\\B_WORKING\\\\WORKING RESULTS\\\\LSTM\\\\EVAL\\\\LSTM_D38_evaluation_STC.csv',\n",
       " 'D:\\\\B_WORKING\\\\WORKING RESULTS\\\\LSTM\\\\EVAL\\\\LSTM_D39_evaluation_STC.csv',\n",
       " 'D:\\\\B_WORKING\\\\WORKING RESULTS\\\\LSTM\\\\EVAL\\\\LSTM_D3_evaluation_STC.csv',\n",
       " 'D:\\\\B_WORKING\\\\WORKING RESULTS\\\\LSTM\\\\EVAL\\\\LSTM_D7_evaluation_STC.csv']"
      ]
     },
     "execution_count": 80,
     "metadata": {},
     "output_type": "execute_result"
    }
   ],
   "source": [
    "import pandas as pd\n",
    "import numpy as np\n",
    "import matplotlib.pyplot as plt\n",
    "from warnings import catch_warnings\n",
    "from warnings import filterwarnings\n",
    "\n",
    "import glob\n",
    "\n",
    "###########           CONVERT STC TO SS          #############\n",
    "\n",
    "g=glob.glob(r'D:\\B_WORKING\\WORKING RESULTS\\*\\EVAL\\*_STC.csv')\n",
    "g "
   ]
  },
  {
   "cell_type": "code",
   "execution_count": 76,
   "id": "5187c332",
   "metadata": {},
   "outputs": [],
   "source": [
    "al=[]\n",
    "for filename in g:\n",
    "    df=pd.read_csv(filename)\n",
    "    df=df.rename(columns = {'Unnamed: 0':'index'})\n",
    "    df=df.set_index('index')\n",
    "    al.append(df)"
   ]
  },
  {
   "cell_type": "code",
   "execution_count": 77,
   "id": "3d1ace73",
   "metadata": {},
   "outputs": [
    {
     "data": {
      "text/plain": [
       "{'D16_BGRUCNN': 0.061403655,\n",
       " 'D19_BGRUCNN': 0.05052999,\n",
       " 'D20_BGRUCNN': 0.10511625,\n",
       " 'D27_BGRUCNN': 0.0548787,\n",
       " 'D28_BGRUCNN': 0.059712194,\n",
       " 'D2_BGRUCNN': 0.080261916,\n",
       " 'D33_BGRUCNN': 0.054140314,\n",
       " 'D36_BGRUCNN': 0.058076087,\n",
       " 'D38_BGRUCNN': 0.07416127,\n",
       " 'D39_BGRUCNN': 0.06114502,\n",
       " 'D3_BGRUCNN': 0.078087814,\n",
       " 'D7_BGRUCNN': 0.127191,\n",
       " 'D16_BLSTMCNN': 0.061219648,\n",
       " 'D19_BLSTMCNN': 0.053719897,\n",
       " 'D20_BLSTMCNN': 0.10733643,\n",
       " 'D27_BLSTMCNN': 0.053635206,\n",
       " 'D28_BLSTMCNN': 0.06386082,\n",
       " 'D2_BLSTMCNN': 0.08085493,\n",
       " 'D33_BLSTMCNN': 0.05448936,\n",
       " 'D36_BLSTMCNN': 0.0570633,\n",
       " 'D38_BLSTMCNN': 0.07509928,\n",
       " 'D39_BLSTMCNN': 0.0625795,\n",
       " 'D3_BLSTMCNN': 0.07258567,\n",
       " 'D7_BLSTMCNN': 0.13087052,\n",
       " 'D16_CNN': 0.06884288,\n",
       " 'D19_CNN': 0.057638884,\n",
       " 'D20_CNN': 0.11415862,\n",
       " 'D27_CNN': 0.063629985,\n",
       " 'D28_CNN': 0.069821954,\n",
       " 'D2_CNN': 0.08674738,\n",
       " 'D33_CNN': 0.061102506,\n",
       " 'D36_CNN': 0.06259426,\n",
       " 'D38_CNN': 0.08179699,\n",
       " 'D39_CNN': 0.064943746,\n",
       " 'D3_CNN': 0.07970219,\n",
       " 'D7_CNN': 0.12620051,\n",
       " 'D16_GRU': 0.070048526,\n",
       " 'D19_GRU': 0.056944016,\n",
       " 'D20_GRU': 0.112785324,\n",
       " 'D27_GRU': 0.06131476,\n",
       " 'D28_GRU': 0.06881594,\n",
       " 'D2_GRU': 0.08575235,\n",
       " 'D33_GRU': 0.058998976,\n",
       " 'D36_GRU': 0.061916776,\n",
       " 'D38_GRU': 0.07864641,\n",
       " 'D39_GRU': 0.06489921,\n",
       " 'D3_GRU': 0.07673051,\n",
       " 'D7_GRU': 0.12760337,\n",
       " 'LSTM_D16': 0.0653371,\n",
       " 'LSTM_D19': 0.05308158,\n",
       " 'LSTM_D20': 0.10991929,\n",
       " 'LSTM_D27': 0.057601266,\n",
       " 'LSTM_D28': 0.06307338,\n",
       " 'LSTM_D2': 0.08361541,\n",
       " 'LSTM_D33': 0.054845244,\n",
       " 'LSTM_D36': 0.059117157,\n",
       " 'LSTM_D38': 0.076502934,\n",
       " 'LSTM_D39': 0.062464807,\n",
       " 'LSTM_D3': 0.07452486,\n",
       " 'LSTM_D7': 0.12523392}"
      ]
     },
     "execution_count": 77,
     "metadata": {},
     "output_type": "execute_result"
    }
   ],
   "source": [
    "#p=rmse,mape,mae,mslr,mse\n",
    "p=\"mslr\"\n",
    "my_dict = {}\n",
    "for da in range(len(g)):\n",
    "    rmse = al[da].loc[p, 'value']\n",
    "    key = g[da].split('\\\\')[-1].split('_evaluation')[0]\n",
    "    my_dict[key] = rmse\n",
    "my_dict"
   ]
  },
  {
   "cell_type": "code",
   "execution_count": 78,
   "id": "353554c7",
   "metadata": {},
   "outputs": [],
   "source": [
    "df = pd.DataFrame.from_dict(my_dict, orient='index', columns=[p])"
   ]
  },
  {
   "cell_type": "code",
   "execution_count": 79,
   "id": "82dd8763",
   "metadata": {},
   "outputs": [],
   "source": [
    "df.to_csv(\"all_\"+p+\"_model_withdata.csv\")"
   ]
  },
  {
   "cell_type": "code",
   "execution_count": null,
   "id": "ed773229",
   "metadata": {},
   "outputs": [],
   "source": []
  }
 ],
 "metadata": {
  "kernelspec": {
   "display_name": "Python 3 (ipykernel)",
   "language": "python",
   "name": "python3"
  },
  "language_info": {
   "codemirror_mode": {
    "name": "ipython",
    "version": 3
   },
   "file_extension": ".py",
   "mimetype": "text/x-python",
   "name": "python",
   "nbconvert_exporter": "python",
   "pygments_lexer": "ipython3",
   "version": "3.9.12"
  }
 },
 "nbformat": 4,
 "nbformat_minor": 5
}
